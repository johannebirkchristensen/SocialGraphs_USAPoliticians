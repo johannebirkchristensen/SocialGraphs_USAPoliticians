{
 "cells": [
  {
   "cell_type": "markdown",
   "metadata": {},
   "source": [
    "# Explainer notebook for 02805 Social Graphs - Group 11\n"
   ]
  },
  {
   "cell_type": "markdown",
   "metadata": {},
   "source": [
    "We explore how american politicians are connected through wikipedia pages. We use the wikipedia pages of the politicians to create a graph of politicians and their connections. We then analyze several aspects of the graph. \n",
    "\n",
    "### Outline\n"
   ]
  },
  {
   "cell_type": "markdown",
   "metadata": {},
   "source": [
    "### Packages"
   ]
  },
  {
   "cell_type": "code",
   "execution_count": 41,
   "metadata": {},
   "outputs": [],
   "source": [
    "import matplotlib.pyplot as plt \n",
    "import pickle\n",
    "import networkx as nx\n",
    "import re\n",
    "import os\n",
    "import json\n",
    "import os\n",
    "from nltk.tokenize import word_tokenize\n",
    "import json\n",
    "from tqdm import tqdm\n",
    "import urllib.request\n",
    "import requests\n",
    "from collections import Counter\n",
    "import numpy as np\n",
    "\n"
   ]
  },
  {
   "cell_type": "markdown",
   "metadata": {},
   "source": [
    "## 1. Data loading and preprocessing"
   ]
  },
  {
   "cell_type": "markdown",
   "metadata": {},
   "source": [
    "### 1.1 Scraping data from wikipedia\n",
    "The data is scraped from wikipedia using the wikipedia API. We couldn't find a good list of all american politicians, so we had to several lists to get a good coverage of politicians. We then use the wikipedia API to get the links from the wikipedia pages of the politicians."
   ]
  },
  {
   "cell_type": "code",
   "execution_count": null,
   "metadata": {},
   "outputs": [],
   "source": [
    "def get_category_members(category_name, cmcontinue=None):\n",
    "    url = \"https://en.wikipedia.org/w/api.php\"\n",
    "    params = {\n",
    "        \"action\": \"query\",\n",
    "        \"list\": \"categorymembers\",\n",
    "        \"cmtitle\": f\"Category:{category_name}\",\n",
    "        \"cmlimit\": \"500\",  \n",
    "        \"cmcontinue\": cmcontinue, \n",
    "        \"format\": \"json\",\n",
    "    }\n",
    "    response = requests.get(url, params=params) \n",
    "    data = response.json()\n",
    "    return data\n",
    "\n",
    "def get_all_category_members(category_name):\n",
    "    members = []\n",
    "    cmcontinue = None\n",
    "\n",
    "    while True:\n",
    "        data = get_category_members(category_name, cmcontinue)\n",
    "        members.extend(data['query']['categorymembers']) \n",
    "        \n",
    "        cmcontinue = data.get('continue', {}).get('cmcontinue')\n",
    "        if not cmcontinue:\n",
    "            break\n",
    "\n",
    "    return [member['title'] for member in members]\n",
    "\n",
    "politicians21th = get_all_category_members(\"21st-century American politicians\")\n",
    "politicians20th = get_all_category_members(\"20th-century American politicians\")\n",
    "politicians21th_presidential_electors = get_all_category_members(\"21st-century United States presidential electors\")\n",
    "politicians21th_vice_presidents = get_all_category_members(\"21st-century vice presidents of the United States\")\n",
    "politicians21th_presidents = get_all_category_members(\"21st-century presidents of the United States\")\n",
    "politicians21th_party_for_soc_and_lib_politicians = get_all_category_members(\"Party for Socialism and Liberation politicians\")\n",
    "politicians21th_mayors = get_all_category_members(\"21st-century mayors of places in the United States\")\n",
    "politicians21th_legislators = get_all_category_members(\"21st-century American legislators\")\n",
    "politicians21th_justice = get_all_category_members(\"Justice Party (United States) politicians\")\n",
    "politicians21th_green_party = get_all_category_members(\"Green Party of the United States politicians\")\n",
    "politicians21th_farrigth = get_all_category_members(\"21st-century American far-right politicians\")\n",
    "politicians21th_soldiarity = get_all_category_members(\"American Solidarity Party politicians\")\n",
    "politicians21th_delta = get_all_category_members(\"American Delta Party politicians\")\n",
    "politicians21th_women = get_all_category_members(\"21st-century American women politicians\")\n",
    "politicians21th_candidates = get_all_category_members(\"21st-century candidates in United States elections by year\")\n",
    "politicians21th_native = get_all_category_members(\"21st-century Native American politicians\")\n",
    "politicians21th_state = get_all_category_members(\"21st-century American politicians by state\")\n",
    "politicians21th_insular = get_all_category_members(\"21st-century politicians from insular areas of the United States\")\n",
    "politicians21th_african = get_all_category_members(\"21st-century African-American politicians\")\n",
    "\n",
    "# Save the lists as .txt \n",
    "with open(\"politicians_21st_century.txt\", \"w\", encoding=\"utf-8\") as file_21st:\n",
    "    for politician in politicians21th:\n",
    "        file_21st.write(politician + \"\\n\")\n",
    "\n",
    "with open(\"politicians_20th_century.txt\", \"w\", encoding=\"utf-8\") as file_20th:\n",
    "    for politician in politicians20th:\n",
    "        file_20th.write(politician + \"\\n\")\n",
    "        \n",
    "with open(\"politicians21th_presidential_electors.txt\", \"w\", encoding=\"utf-8\") as file_20th:\n",
    "    for politician in politicians21th_presidential_electors:\n",
    "        file_20th.write(politician + \"\\n\")\n",
    "        \n",
    "\n",
    "with open(\"politicians21th_vice_presidents.txt\", \"w\", encoding=\"utf-8\") as file_20th:\n",
    "    for politician in politicians21th_vice_presidents:\n",
    "        file_20th.write(politician + \"\\n\")\n",
    "        \n",
    "\n",
    "with open(\"politicians21th_presidents.txt\", \"w\", encoding=\"utf-8\") as file_20th:\n",
    "    for politician in politicians21th_presidents:\n",
    "        file_20th.write(politician + \"\\n\")\n",
    "        \n",
    "\n",
    "with open(\"politicians21th_party_for_soc_and_lib_politicians.txt\", \"w\", encoding=\"utf-8\") as file_20th:\n",
    "    for politician in politicians21th_party_for_soc_and_lib_politicians:\n",
    "        file_20th.write(politician + \"\\n\")\n",
    "        \n",
    "\n",
    "with open(\"politicians21th_mayors.txt\", \"w\", encoding=\"utf-8\") as file_20th:\n",
    "    for politician in politicians21th_mayors:\n",
    "        file_20th.write(politician + \"\\n\")\n",
    "        \n",
    "\n",
    "with open(\"politicians21th_legislators.txt\", \"w\", encoding=\"utf-8\") as file_20th:\n",
    "    for politician in politicians21th_legislators:\n",
    "        file_20th.write(politician + \"\\n\")\n",
    "        \n",
    "with open(\"politicians21th_justice.txt\", \"w\", encoding=\"utf-8\") as file_20th:\n",
    "    for politician in politicians21th_justice:\n",
    "        file_20th.write(politician + \"\\n\")\n",
    "        \n",
    "with open(\"politicians21th_green_party.txt\", \"w\", encoding=\"utf-8\") as file_20th:\n",
    "    for politician in politicians21th_green_party:\n",
    "        file_20th.write(politician + \"\\n\")\n",
    "        \n",
    "with open(\"politicians21th_farrigth.txt\", \"w\", encoding=\"utf-8\") as file_20th:\n",
    "    for politician in politicians21th_farrigth:\n",
    "        file_20th.write(politician + \"\\n\")\n",
    "        \n",
    "with open(\"politicians21th_soldiarity.txt\", \"w\", encoding=\"utf-8\") as file_20th:\n",
    "    for politician in politicians21th_soldiarity:\n",
    "        file_20th.write(politician + \"\\n\")\n",
    "        \n",
    "with open(\"politicians21th_delta.txt\", \"w\", encoding=\"utf-8\") as file_20th:\n",
    "    for politician in politicians21th_delta:\n",
    "        file_20th.write(politician + \"\\n\")\n",
    "        \n",
    "with open(\"politicians21th_women.txt\", \"w\", encoding=\"utf-8\") as file_20th:\n",
    "    for politician in politicians21th_women:\n",
    "        file_20th.write(politician + \"\\n\")\n",
    "        \n",
    "with open(\"politicians21th_candidates.txt\", \"w\", encoding=\"utf-8\") as file_20th:\n",
    "    for politician in politicians21th_candidates:\n",
    "        file_20th.write(politician + \"\\n\")\n",
    "        \n",
    "with open(\"politicians21th_native.txt\", \"w\", encoding=\"utf-8\") as file_20th:\n",
    "    for politician in politicians21th_native:\n",
    "        file_20th.write(politician + \"\\n\")\n",
    "        \n",
    "with open(\"politicians21th_state.txt\", \"w\", encoding=\"utf-8\") as file_20th:\n",
    "    for politician in politicians21th_state:\n",
    "        file_20th.write(politician + \"\\n\")\n",
    "        \n",
    "with open(\"politicians21th_insular.txt\", \"w\", encoding=\"utf-8\") as file_20th:\n",
    "    for politician in politicians21th_insular:\n",
    "        file_20th.write(politician + \"\\n\")\n",
    "\n",
    "\n",
    "with open(\"politicians21th_african.txt\", \"w\", encoding=\"utf-8\") as file_20th:\n",
    "    for politician in politicians21th_african:\n",
    "        file_20th.write(politician + \"\\n\")"
   ]
  },
  {
   "cell_type": "code",
   "execution_count": null,
   "metadata": {},
   "outputs": [],
   "source": [
    "files = os. listdir(\"Politicians\")\n",
    "politicians = []\n",
    "for file in files:\n",
    "    \n",
    "    with open(\"Politicians/\"+file, \"r\", encoding=\"utf8\") as f:\n",
    "        p = f.read()\n",
    "        p = p.split(\"\\n\")\n",
    "        p = [line for line in p if not line.startswith(\"Category\")]\n",
    "        p = [line for line in p if line != \"\"]\n",
    "        politicians = list(set(politicians + p))\n",
    "\n",
    "for i,p in enumerate(politicians):\n",
    "\n",
    "    if i % 100 == 0:\n",
    "        print(f\"Processing politician {i} of {len(politicians)}\")\n",
    "\n",
    "    try:\n",
    "        baseurl = \"https://en.wikipedia.org/w/api.php?\"\n",
    "        action = \"action=query\"\n",
    "        title = \"titles=\"+p.replace(\" \", \"_\")\n",
    "        content = \"prop=revisions&rvprop=content\"\n",
    "        dataformat =\"format=json\"\n",
    "\n",
    "        query = \"{}{}&{}&{}&{}\".format(baseurl, action, content, title, dataformat)\n",
    "        #print(query)\n",
    "\n",
    "        wikiresponse = urllib.request.urlopen(query)\n",
    "        wikidata = wikiresponse.read()\n",
    "        wikitext = wikidata.decode('utf-8')\n",
    "\n",
    "\n",
    "        js = json.loads(wikitext) \n",
    "\n",
    "        #save json to file in contry folder\n",
    "        with open(\"../wiki_pages/\"+p.replace(\" \", \"_\")+\".json\", \"w\", encoding=\"utf-8\") as f:\n",
    "            json.dump(js, f, ensure_ascii=False, indent=2)\n",
    "    except:\n",
    "        print(\"error with \"+p)\n",
    "        continue\n"
   ]
  },
  {
   "cell_type": "markdown",
   "metadata": {},
   "source": [
    "### 1.2 Graph creation\n",
    "We create a graph of the politicians and their connections by iterating over the wikipedia pages we have collected. We use the links in the wikipedia pages to create the connections between the politicians."
   ]
  },
  {
   "cell_type": "code",
   "execution_count": null,
   "metadata": {},
   "outputs": [],
   "source": [
    "G = nx.DiGraph()\n",
    "\n",
    "m = len(os.listdir(\"../wiki_pages\"))\n",
    "for filename in os.listdir(\"../wiki_pages\"):\n",
    "    G.add_node(filename[:-5])\n",
    "\n",
    "for i,filename in enumerate(os.listdir(\"../wiki_pages\")):\n",
    "    if i % 1000 == 0:\n",
    "         print(i, \"/\", m)\n",
    "   \n",
    "    with open(\"../wiki_pages/\"+filename, \"r\", encoding=\"utf-8\") as f:\n",
    "        try: \n",
    "            data = json.load(f)\n",
    "            \n",
    "            wikitext = data[\"query\"][\"pages\"]\n",
    "            page = list(wikitext.keys())[0]\n",
    "            wikitext = wikitext[page][\"revisions\"][0][\"*\"]\n",
    "\n",
    "            nb = set(re.findall(r'\\[\\[([^\\|\\]]+)(?:\\|[^\\]]+)?\\]\\]', wikitext))\n",
    "\n",
    "            for n in nb:\n",
    "                n = n.replace(\" \", \"_\")\n",
    "                if n in G.nodes and not G.has_edge(filename[:-5], n) and filename[:-5] != n:\n",
    "                    G.add_edge(filename[:-5], n)\n",
    "\n",
    "        except:\n",
    "            print(filename)\n",
    "            continue\n",
    "\n",
    "G.remove_nodes_from(list(nx.isolates(G)))\n",
    "\n",
    "pickle.dump(G, open('G_politicans.pickle', 'wb'))"
   ]
  },
  {
   "cell_type": "markdown",
   "metadata": {},
   "source": [
    "### 1.3 Basic statistics\n",
    "We look at some basic statistics of the graph, such as the number of nodes and edges, the average degree, and the degree distribution. This is to make sure that the graph is reasonable and that we have collected enough data."
   ]
  },
  {
   "cell_type": "code",
   "execution_count": null,
   "metadata": {},
   "outputs": [
    {
     "name": "stdout",
     "output_type": "stream",
     "text": [
      "Number of nodes: 20534\n",
      "Number of edges: 80506\n",
      "Max degree: 1315\n",
      "name of vertex with max degree: Donald_Trump\n",
      "Max out degree: 96\n",
      "name of vertex with max out degree: List_of_politicians_affiliated_with_the_Tea_Party_movement\n",
      "Max in degree: 1297\n",
      "name of vertex with max in degree: Donald_Trump\n",
      "Min degree: 1\n",
      "Average degree: 7.841238920814259\n"
     ]
    }
   ],
   "source": [
    "G = pickle.load(open('G_politicans.pickle', 'rb'))\n",
    "\n",
    "print(f\"Number of nodes: {len(G.nodes())}\")\n",
    "print(f\"Number of edges: {len(G.edges())}\")\n",
    "print(f\"Max degree: {max(dict(G.degree()).values())}\")\n",
    "print(f\"name of vertex with max degree: {max(dict(G.degree()), key=dict(G.degree()).get)}\")\n",
    "print(f\"Max out degree: {max(dict(G.out_degree()).values())}\")\n",
    "print(f\"name of vertex with max out degree: {max(dict(G.out_degree()), key=dict(G.out_degree()).get)}\")\n",
    "print(f\"Max in degree: {max(dict(G.in_degree()).values())}\")\n",
    "print(f\"name of vertex with max in degree: {max(dict(G.in_degree()), key=dict(G.in_degree()).get)}\")\n",
    "print(f\"Min degree: {min(dict(G.degree()).values())}\")\n",
    "print(f\"Average degree: {sum(dict(G.degree()).values())/G.number_of_nodes()}\")"
   ]
  },
  {
   "cell_type": "code",
   "execution_count": 4,
   "metadata": {},
   "outputs": [
    {
     "data": {
      "image/png": "[encoded data removed]",
      "text/plain": [
       "<Figure size 1400x600 with 2 Axes>"
      ]
     },
     "metadata": {},
     "output_type": "display_data"
    }
   ],
   "source": [
    "fig, axs = plt.subplots(1, 2, figsize=(14, 6))\n",
    "\n",
    "# Out degree distribution\n",
    "out_degrees = [G.out_degree(n) for n in G.nodes()]\n",
    "axs[0].hist(out_degrees, bins=100)\n",
    "axs[0].set_title(\"Out degree distribution\")\n",
    "axs[0].set_xlabel(\"Out degree\")\n",
    "axs[0].set_ylabel(\"Number of nodes (log)\")\n",
    "axs[0].set_yscale('log')\n",
    "\n",
    "# In degree distribution\n",
    "in_degrees = [G.in_degree(n) for n in G.nodes()]\n",
    "axs[1].hist(in_degrees, bins=100)\n",
    "axs[1].set_title(\"In degree distribution\")\n",
    "axs[1].set_xlabel(\"In degree\")\n",
    "axs[1].set_ylabel(\"Number of nodes (log)\")\n",
    "axs[1].set_yscale('log')\n",
    "\n",
    "plt.tight_layout()\n",
    "plt.show()"
   ]
  },
  {
   "cell_type": "markdown",
   "metadata": {},
   "source": [
    "### 1.4 Node attributes and data cleaning\n",
    "We collect some attributes of the nodes, such as the party of the politician, gender and sentiment of their wikipedia page. We then remove nodes with missing attributes. We also make sure to remove nodes that are not connected to the main component of the graph."
   ]
  },
  {
   "cell_type": "code",
   "execution_count": null,
   "metadata": {},
   "outputs": [],
   "source": [
    "# Initialize an empty dictionary\n",
    "word_dict = {}\n",
    "\n",
    "# Read the file line by line\n",
    "with open(r'LabMT_wordlist.txt', 'r', encoding='cp1252') as f:\n",
    "    # Skip the header line\n",
    "    next(f)\n",
    "    for line in f:\n",
    "        # Split the line into components\n",
    "        parts = line.strip().split('\\t')\n",
    "        word = parts[0]\n",
    "        happiness_rank = int(parts[1])\n",
    "        happiness_average = float(parts[2])\n",
    "        happiness_standard_deviation = float(parts[3])\n",
    "        twitter_rank = float(parts[4]) if parts[4] != '--' else None\n",
    "        google_rank = float(parts[5]) if parts[5] != '--' else None\n",
    "        nyt_rank = float(parts[6]) if parts[6] != '--' else None\n",
    "        lyrics_rank = float(parts[7]) if parts[7] != '--' else None\n",
    "      \n",
    "        # Add the word and its attributes to the dictionary\n",
    "        word_dict[word] = {\n",
    "            'happiness_rank': happiness_rank,\n",
    "            'happiness_average': happiness_average,\n",
    "            'happiness_standard_deviation': happiness_standard_deviation,\n",
    "            'twitter_rank': twitter_rank,\n",
    "            'google_rank': google_rank,\n",
    "            'nyt_rank': nyt_rank,\n",
    "            'lyrics_rank': lyrics_rank\n",
    "        }\n",
    "\n",
    "# Function to calculate sentiment for a given text\n",
    "def calculate_sentiment(text):\n",
    "    tokens = word_tokenize(text.lower())\n",
    "    sentiment_sum = 0\n",
    "    word_count = 0\n",
    "    for token in tokens:\n",
    "        if token in word_dict:\n",
    "            sentiment_sum += word_dict[token]['happiness_average']\n",
    "            word_count += 1\n",
    "    if word_count > 0:\n",
    "        return sentiment_sum / word_count\n",
    "    else:\n",
    "        return None"
   ]
  },
  {
   "cell_type": "code",
   "execution_count": null,
   "metadata": {},
   "outputs": [],
   "source": [
    "from tqdm import tqdm\n",
    "\n",
    "wiki_pages = \"./wiki_pages\"\n",
    "\n",
    "for node in tqdm(list(G.nodes()), desc=\"Processing nodes\"):\n",
    "    node_file = f\"{node}.json\"\n",
    "    if os.path.exists(os.path.join(wiki_pages, node_file)):\n",
    "        with open(os.path.join(wiki_pages, node_file), 'r', encoding=\"utf-8\") as f:\n",
    "            try:\n",
    "                data = json.load(f)\n",
    "                wikitext = data[\"query\"][\"pages\"]\n",
    "                page = list(wikitext.keys())[0]\n",
    "                wikitext = wikitext[page][\"revisions\"][0][\"*\"]\n",
    "                \n",
    "                # Find party\n",
    "                match = re.search(r'\\bparty\\b.*?\\|([^]]+)\\]\\]', wikitext, re.IGNORECASE)\n",
    "                if match:\n",
    "                    party = match.group(1)\n",
    "                    if len(party) < 50:\n",
    "                        G.nodes[node]['party'] = party\n",
    "                \n",
    "                # Find gender\n",
    "                text = json.dumps(data).lower()\n",
    "                he_count = len(re.findall(r'\\bhe\\b|\\bhim\\b|\\bhis\\b', text))\n",
    "                she_count = len(re.findall(r'\\bshe\\b|\\bher\\b|\\bhers\\b', text))\n",
    "                if he_count > she_count:\n",
    "                    G.nodes[node]['gender'] = \"male\"\n",
    "                elif she_count > he_count:\n",
    "                    G.nodes[node]['gender'] = \"female\"\n",
    "                else:\n",
    "                    G.nodes[node]['gender'] = \"unknown\"\n",
    "                \n",
    "                # Calculate sentiment\n",
    "                sentiment = calculate_sentiment(wikitext)\n",
    "                if sentiment is not None:\n",
    "                    G.nodes[node][\"sentiment\"] = sentiment\n",
    "                else:\n",
    "                    print(f\"Sentiment could not be calculated for {node}\")\n",
    "            except:\n",
    "                print(f\"Error in file: {node_file}\")\n",
    "                continue"
   ]
  },
  {
   "cell_type": "code",
   "execution_count": null,
   "metadata": {},
   "outputs": [],
   "source": [
    "for node in G.nodes():\n",
    "    if 'party' in G.nodes[node] and (G.nodes[node]['party'] in ['Democratic', 'Democrat', 'Democratic Party', 'Democratic Party (United States)', 'DFL', 'Democratic (DFL)', 'Democratic-Farmer-Labor', 'Democratic–Farmer–Labor', 'Democratic-Farmer-Labor Party', 'Democratic-Farmer-Labor Party (Minnesota)', 'DFL party', 'Farmer-Labor'] or re.search(r'democrat', G.nodes[node]['party'], re.IGNORECASE)):\n",
    "        G.nodes[node]['party'] = 'Democratic'\n",
    "\n",
    "    if 'party' in G.nodes[node] and (G.nodes[node]['party'] in ['Republican', 'Republican Party', 'Republican Party (United States)', 'GOP', 'Texas Republican Party'] or re.search(r'republican', G.nodes[node]['party'], re.IGNORECASE)):\n",
    "        G.nodes[node]['party'] = 'Republican'\n",
    "\n",
    "    if 'party' in G.nodes[node] and re.search(r'green', G.nodes[node]['party'], re.IGNORECASE):\n",
    "        G.nodes[node]['party'] = 'Green'\n",
    "\n",
    "    if 'party' in G.nodes[node] and re.search(r'libertarian', G.nodes[node]['party'], re.IGNORECASE):\n",
    "        G.nodes[node]['party'] = 'Libertarian'\n",
    "\n",
    "    if 'party' in G.nodes[node] and re.search(r'independent', G.nodes[node]['party'], re.IGNORECASE):\n",
    "        G.nodes[node]['party'] = 'Independent'\n",
    "\n",
    "    if 'party' in G.nodes[node] and re.search(r'socialist', G.nodes[node]['party'], re.IGNORECASE):\n",
    "        G.nodes[node]['party'] = 'Socialist'\n",
    "  \n",
    "\n",
    "parties = ['Democratic', 'Republican', 'Libertarian', 'Green', 'Independent', 'Socialist']\n",
    "count_party = 0\n",
    "no_party = 0\n",
    "for node in G.nodes():\n",
    "    if 'party' in G.nodes[node] and G.nodes[node]['party'] not in parties:\n",
    "        # print(f\"Node {node} has a party {G.nodes[node]['party']} not in the list of parties.\")\n",
    "        count_party += 1\n",
    "    if 'party' not in G.nodes[node]:\n",
    "        no_party += 1\n",
    "\n",
    "print(f\"Total nodes with parties not in the list: {count_party}\")\n",
    "print(f\"Total nodes with no party: {no_party}\")\n",
    "\n",
    "party_counts = Counter(nx.get_node_attributes(G, 'party').values())\n",
    "print(party_counts)"
   ]
  },
  {
   "cell_type": "code",
   "execution_count": null,
   "metadata": {},
   "outputs": [],
   "source": [
    "female_count = sum(1 for _, attr in G.nodes(data=True) if attr.get(\"gender\") == \"female\")\n",
    "male_count = sum(1 for _, attr in G.nodes(data=True) if attr.get(\"gender\") == \"male\")\n",
    "unknown_count = sum(1 for _, attr in G.nodes(data=True) if attr.get(\"gender\") == \"unknown\")\n",
    "\n",
    "print(f\"Antal kvinder: {female_count}\")\n",
    "print(f\"Antal mænd: {male_count}\")\n",
    "print(f\"Antal unknown: {unknown_count}\")"
   ]
  },
  {
   "cell_type": "code",
   "execution_count": null,
   "metadata": {},
   "outputs": [],
   "source": [
    "nodes_to_remove1 = [node for node, attr in G.nodes(data=True) if attr.get(\"gender\") == \"unknown\"]\n",
    "nodes_to_remove2 = [node for node in G.nodes() if 'party' not in G.nodes[node] or G.nodes[node]['party'] not in parties]\n",
    "nodes_to_remove3 = [node for node in G.nodes() if 'sentiment' not in G.nodes[node]]\n",
    "\n",
    "print(f\"removing: {len(nodes_to_remove1) + len(nodes_to_remove2) + len(nodes_to_remove3)}\", \"nodes\")\n",
    "\n",
    "G.remove_nodes_from(nodes_to_remove1)\n",
    "G.remove_nodes_from(nodes_to_remove2)\n",
    "G.remove_nodes_from(nodes_to_remove3)\n",
    "\n",
    "G.remove_nodes_from(list(nx.isolates(G)))"
   ]
  },
  {
   "cell_type": "code",
   "execution_count": null,
   "metadata": {},
   "outputs": [],
   "source": [
    "# save graph object to file\n",
    "pickle.dump(G, open('G_politicans_final.pickle', 'wb'))"
   ]
  },
  {
   "cell_type": "markdown",
   "metadata": {},
   "source": [
    "## 2. Analysis"
   ]
  },
  {
   "cell_type": "code",
   "execution_count": null,
   "metadata": {},
   "outputs": [],
   "source": [
    "G = pickle.load(open('G_politicans_final', 'rb'))"
   ]
  },
  {
   "cell_type": "markdown",
   "metadata": {},
   "source": [
    "### 2.1 Modularity\n",
    "We partition the graph by party, gender and the louvain method. We then calculate the modularity of the partitions."
   ]
  },
  {
   "cell_type": "code",
   "execution_count": 37,
   "metadata": {},
   "outputs": [
    {
     "name": "stdout",
     "output_type": "stream",
     "text": [
      "The graph is divided in 6\n",
      "The modularity of the partition is 0.2194473613965019\n",
      "The graph is divided in 2\n",
      "The modularity of the partition is 0.04626400380728418\n",
      "The graph is divided in 4602\n",
      "The modularity of the partition is 0.5257979958007897\n"
     ]
    }
   ],
   "source": [
    "# partition the graph after party. \n",
    "party_partition = {}\n",
    "for node in G.nodes(data=True):\n",
    "    attribute = node[1]['party']\n",
    "    if attribute not in party_partition:\n",
    "        party_partition[attribute] = [node[0]]\n",
    "    else:\n",
    "        party_partition[attribute].append(node[0])\n",
    "# calculate the modularity of the partition\n",
    "party_modularity = nx.algorithms.community.modularity(G, party_partition.values())\n",
    "\n",
    "# partition the graph after genre attribute using party genre. \n",
    "gender_partition = {}\n",
    "for node in G.nodes(data=True):\n",
    "    attribute = node[1]['gender']\n",
    "    if attribute not in gender_partition:\n",
    "        gender_partition[attribute] = [node[0]]\n",
    "    else:\n",
    "        gender_partition[attribute].append(node[0])\n",
    "# calculate the modularity of the partition\n",
    "gender_modularity = nx.algorithms.community.modularity(G, gender_partition.values())\n",
    "\n",
    "# use louvain method to partition the graph\n",
    "louvain_partition = nx.community.louvain_communities(G, seed=11)\n",
    "# calculate the modularity of the partition\n",
    "louvain_modularity = nx.algorithms.community.modularity(G, louvain_partition)\n",
    "\n",
    "print('The graph is divided in', len(party_partition))\n",
    "print('The modularity of the partition is', party_modularity)\n",
    "print('The graph is divided in', len(gender_partition))\n",
    "print('The modularity of the partition is', gender_modularity)\n",
    "print('The graph is divided in',len(louvain_partition))\n",
    "print('The modularity of the partition is', louvain_modularity)"
   ]
  },
  {
   "cell_type": "code",
   "execution_count": null,
   "metadata": {},
   "outputs": [],
   "source": []
  },
  {
   "cell_type": "markdown",
   "metadata": {},
   "source": [
    "### 2.2 Friendship paradox"
   ]
  },
  {
   "cell_type": "code",
   "execution_count": null,
   "metadata": {},
   "outputs": [
    {
     "name": "stderr",
     "output_type": "stream",
     "text": [
      "C:\\Users\\Mathilde\\AppData\\Local\\Packages\\PythonSoftwareFoundation.Python.3.11_qbz5n2kfra8p0\\LocalCache\\local-packages\\Python311\\site-packages\\numpy\\core\\fromnumeric.py:3504: RuntimeWarning: Mean of empty slice.\n",
      "  return _methods._mean(a, axis=axis, dtype=dtype,\n",
      "C:\\Users\\Mathilde\\AppData\\Local\\Packages\\PythonSoftwareFoundation.Python.3.11_qbz5n2kfra8p0\\LocalCache\\local-packages\\Python311\\site-packages\\numpy\\core\\_methods.py:129: RuntimeWarning: invalid value encountered in scalar divide\n",
      "  ret = ret.dtype.type(ret / rcount)\n"
     ]
    },
    {
     "name": "stdout",
     "output_type": "stream",
     "text": [
      "Fraction of nodes, which have a degree less than the mean degree of their neigboors in F-BA: 0.7732490434203959\n"
     ]
    }
   ],
   "source": [
    "def friendship_paradox(G):\n",
    "    #We calculated the fraction of nodes, which have a degree less than the mean degree\n",
    "    # of their neigboors in F-BA for all nodes instead of a random sample 1000 nodes.\n",
    "    \n",
    "    paradox = 0 \n",
    "    for node in G.nodes:\n",
    "        nb = list(G.neighbors(node))\n",
    "        nbavgnb = np.mean([G.degree(n) for n in nb])\n",
    "\n",
    "        if(G.degree[node] < nbavgnb): \n",
    "            paradox += 1 \n",
    "\n",
    "    fraction_paradox = paradox / len(G.nodes)\n",
    "\n",
    "    return fraction_paradox\n",
    "\n",
    "fraction_paradox = friendship_paradox(G)\n",
    "print(f\"Fraction of nodes, which have a degree less than the mean degree of their neigboors in F-BA: {fraction_paradox}\")"
   ]
  },
  {
   "cell_type": "markdown",
   "metadata": {},
   "source": [
    "### 2.3 TF-IDF"
   ]
  },
  {
   "cell_type": "code",
   "execution_count": null,
   "metadata": {},
   "outputs": [],
   "source": []
  }
 ],
 "metadata": {
  "kernelspec": {
   "display_name": "Python 3",
   "language": "python",
   "name": "python3"
  },
  "language_info": {
   "codemirror_mode": {
    "name": "ipython",
    "version": 3
   },
   "file_extension": ".py",
   "mimetype": "text/x-python",
   "name": "python",
   "nbconvert_exporter": "python",
   "pygments_lexer": "ipython3",
   "version": "3.11.9"
  }
 },
 "nbformat": 4,
 "nbformat_minor": 2
}
