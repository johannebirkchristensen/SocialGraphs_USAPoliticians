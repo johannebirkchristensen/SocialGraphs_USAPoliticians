{
 "cells": [
  {
   "cell_type": "code",
   "execution_count": 5,
   "metadata": {},
   "outputs": [],
   "source": [
    "# load graph object from file\n",
    "import pickle \n",
    "import os\n",
    "import numpy as np \n",
    "wiki_pages = os.path.join(os.getcwd(), '..', 'wiki_pages/')\n",
    "G = pickle.load(open('G_politicans_w_attribute.pickle', 'rb'))"
   ]
  },
  {
   "cell_type": "code",
   "execution_count": 6,
   "metadata": {},
   "outputs": [
    {
     "name": "stdout",
     "output_type": "stream",
     "text": [
      "Fraction of nodes, which have a degree less than the mean degree of their neigboors in F-BA: 0.757630064081677\n"
     ]
    }
   ],
   "source": [
    "def friendship_paradox(G):\n",
    "    #We calculated the fraction of nodes, which have a degree less than the mean degree\n",
    "    # of their neigboors in F-BA for all nodes instead of a random sample 1000 nodes.\n",
    "    \n",
    "    paradox = 0 \n",
    "\n",
    "    for node in G.nodes:\n",
    "        nb = list(G.neighbors(node))\n",
    "        nbavgnb = np.mean([G.degree(n) for n in nb])\n",
    "\n",
    "        if(G.degree[node] < nbavgnb): \n",
    "            paradox += 1 \n",
    "\n",
    "    fraction_paradox = paradox / len(G.nodes)\n",
    "\n",
    "    return fraction_paradox\n",
    "\n",
    "fraction_paradox = friendship_paradox(G)\n",
    "print(f\"Fraction of nodes, which have a degree less than the mean degree of their neigboors in F-BA: {fraction_paradox}\")"
   ]
  }
 ],
 "metadata": {
  "kernelspec": {
   "display_name": "Python 3",
   "language": "python",
   "name": "python3"
  },
  "language_info": {
   "codemirror_mode": {
    "name": "ipython",
    "version": 3
   },
   "file_extension": ".py",
   "mimetype": "text/x-python",
   "name": "python",
   "nbconvert_exporter": "python",
   "pygments_lexer": "ipython3",
   "version": "3.10.11"
  }
 },
 "nbformat": 4,
 "nbformat_minor": 2
}
