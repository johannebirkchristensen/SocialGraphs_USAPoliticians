{
 "cells": [
  {
   "cell_type": "markdown",
   "metadata": {},
   "source": [
    "## This is the dataloader in order to get a txt file of all USA politicians from the 20th and 21st century  ## \n"
   ]
  },
  {
   "cell_type": "code",
   "execution_count": null,
   "metadata": {},
   "outputs": [
    {
     "name": "stdout",
     "output_type": "stream",
     "text": [
      "Total number of members: 4308\n",
      "Example members: ['Betty Abbott', 'Greg Abbott', 'Ako Abdul-Samad', 'Chris Abele', 'Bradley Abelow', 'Virginia Abernethy', 'Anna Abeytia', 'Lee Abramson', 'Shaun Abreu', 'Todd Achilles']\n"
     ]
    }
   ],
   "source": [
    "#Code for getting the politicans from wikipedia. \n",
    "import requests\n",
    "\n",
    "def get_category_members(category_name, cmcontinue=None):\n",
    "    \"\"\"\n",
    "    Henter medlemmer af en kategori fra Wikipedia API.\n",
    "    \"\"\"\n",
    "    url = \"https://en.wikipedia.org/w/api.php\"\n",
    "    params = {\n",
    "        \"action\": \"query\",\n",
    "        \"list\": \"categorymembers\",# Specifies that we want a list of category members\n",
    "        \"cmtitle\": f\"Category:{category_name}\",# Specifies the category title to search in \n",
    "        \"cmlimit\": \"500\",  # Hent op til 500 resultater ad gangen ( det er wikis begrænsning)\n",
    "        \"cmcontinue\": cmcontinue,   # Sets the continuation token for fetching more results, if needed\n",
    "        \"format\": \"json\",\n",
    "    }\n",
    "    response = requests.get(url, params=params) # Makes a GET request to the Wikipedia API with the defined parameters\n",
    "    data = response.json()# Converts the JSON response into a Python dictionary\n",
    "    return data# Returns the JSON data containing category members and continuation information\n",
    "\n",
    "\n",
    "def get_all_category_members(category_name):\n",
    "    \"\"\"\n",
    "    Henter alle sider i en Wikipedia-kategori.\n",
    "    \"\"\"\n",
    "    members = []\n",
    "    cmcontinue = None\n",
    "\n",
    "    while True:\n",
    "        data = get_category_members(category_name, cmcontinue)\n",
    "        members.extend(data['query']['categorymembers']) # Adds the current batch of members to the overall list of members\n",
    "        \n",
    "        \n",
    "        # contenies this process untill cmccontenue contains nothing, and there nothing more to be fecthed. \n",
    "        cmcontinue = data.get('continue', {}).get('cmcontinue')\n",
    "        \n",
    "        if not cmcontinue:\n",
    "            break\n",
    "\n",
    "    return [member['title'] for member in members]\n",
    "\n"
   ]
  },
  {
   "cell_type": "code",
   "execution_count": null,
   "metadata": {},
   "outputs": [],
   "source": [
    "# get the politicians \n",
    "politicians21th = get_all_category_members(\"21st-century American politicians\")\n",
    "politicians20th = get_all_category_members(\"20th-century American politicians\")"
   ]
  },
  {
   "cell_type": "code",
   "execution_count": null,
   "metadata": {},
   "outputs": [
    {
     "name": "stdout",
     "output_type": "stream",
     "text": [
      "Total antal politikere fra det 21. århundrede gemt: 4308\n",
      "Total antal politikere fra det 20. århundrede gemt: 5570\n"
     ]
    }
   ],
   "source": [
    "# Save the lists as .txt \n",
    "with open(\"politicians_21st_century.txt\", \"w\", encoding=\"utf-8\") as file_21st:\n",
    "    for politician in politicians21th:\n",
    "        file_21st.write(politician + \"\\n\")\n",
    "\n",
    "with open(\"politicians_20th_century.txt\", \"w\", encoding=\"utf-8\") as file_20th:\n",
    "    for politician in politicians20th:\n",
    "        file_20th.write(politician + \"\\n\")\n",
    "\n",
    "print(f\"number of politicians from the 21st century saved in txt: {len(politicians21th)}\")\n",
    "print(f\"number of politicians from the 21st century saved in txt: {len(politicians20th)}\")"
   ]
  },
  {
   "cell_type": "code",
   "execution_count": null,
   "metadata": {},
   "outputs": [],
   "source": []
  }
 ],
 "metadata": {
  "kernelspec": {
   "display_name": "Python 3",
   "language": "python",
   "name": "python3"
  },
  "language_info": {
   "codemirror_mode": {
    "name": "ipython",
    "version": 3
   },
   "file_extension": ".py",
   "mimetype": "text/x-python",
   "name": "python",
   "nbconvert_exporter": "python",
   "pygments_lexer": "ipython3",
   "version": "3.10.11"
  }
 },
 "nbformat": 4,
 "nbformat_minor": 2
}
