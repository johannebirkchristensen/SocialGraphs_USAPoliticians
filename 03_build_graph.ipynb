{
 "cells": [
  {
   "cell_type": "markdown",
   "metadata": {},
   "source": [
    "## Build Graph\n",
    "\n",
    "This notebook builds the graph \n",
    "> One node for each article in the folder wiki_pages\\\n",
    "> The edges are added accordingly to links the article links to\n",
    "\n",
    "Note: The following code loads the graph\\\n",
    "`\n",
    "G = pickle.load(open('G_politicans.pickle', 'rb'))\n",
    "`"
   ]
  },
  {
   "cell_type": "code",
   "execution_count": 1,
   "metadata": {},
   "outputs": [
    {
     "name": "stdout",
     "output_type": "stream",
     "text": [
      "0 / 23580\n",
      "1000 / 23580\n",
      "2000 / 23580\n",
      "3000 / 23580\n",
      "4000 / 23580\n",
      "5000 / 23580\n",
      "6000 / 23580\n",
      "7000 / 23580\n",
      "8000 / 23580\n",
      "9000 / 23580\n",
      "10000 / 23580\n",
      "11000 / 23580\n",
      "12000 / 23580\n",
      "13000 / 23580\n",
      "14000 / 23580\n",
      "15000 / 23580\n",
      "16000 / 23580\n",
      "17000 / 23580\n",
      "18000 / 23580\n",
      "19000 / 23580\n",
      "20000 / 23580\n",
      "21000 / 23580\n",
      "Template\n",
      "22000 / 23580\n",
      "23000 / 23580\n"
     ]
    }
   ],
   "source": [
    "#iter over all the files in the contry folder\n",
    "import re\n",
    "import os\n",
    "import json\n",
    "import networkx as nx\n",
    "\n",
    "G = nx.DiGraph()\n",
    "\n",
    "m = len(os.listdir(\"../wiki_pages\"))\n",
    "\n",
    "#add a node for each filename without .json in the contry folder\n",
    "for filename in os.listdir(\"../wiki_pages\"):\n",
    "    G.add_node(filename[:-5])\n",
    "\n",
    "for i,filename in enumerate(os.listdir(\"../wiki_pages\")):\n",
    "    if i % 1000 == 0:\n",
    "         print(i, \"/\", m)\n",
    "   \n",
    "    with open(\"../wiki_pages/\"+filename, \"r\", encoding=\"utf-8\") as f:\n",
    "        \n",
    "        try: \n",
    "            data = json.load(f)\n",
    "            \n",
    "            #find the wikitext from data\n",
    "            wikitext = data[\"query\"][\"pages\"]\n",
    "            page = list(wikitext.keys())[0]\n",
    "            wikitext = wikitext[page][\"revisions\"][0][\"*\"]\n",
    "\n",
    "            nb = set(re.findall(r'\\[\\[([^\\|\\]]+)(?:\\|[^\\]]+)?\\]\\]', wikitext))\n",
    "\n",
    "            #add outgoing edges from filename[:-5] to every node in nb\n",
    "            for n in nb:\n",
    "                n = n.replace(\" \", \"_\")\n",
    "                if n in G.nodes and not G.has_edge(filename[:-5], n) and filename[:-5] != n:\n",
    "                    G.add_edge(filename[:-5], n)\n",
    "\n",
    "        except:\n",
    "            print(filename)\n",
    "            continue\n",
    "\n",
    "G.remove_nodes_from(list(nx.isolates(G)))"
   ]
  },
  {
   "cell_type": "code",
   "execution_count": 2,
   "metadata": {},
   "outputs": [],
   "source": [
    "import pickle\n",
    "\n",
    "# save graph object to file\n",
    "pickle.dump(G, open('G_politicans.pickle', 'wb'))"
   ]
  }
 ],
 "metadata": {
  "kernelspec": {
   "display_name": "Python 3",
   "language": "python",
   "name": "python3"
  },
  "language_info": {
   "codemirror_mode": {
    "name": "ipython",
    "version": 3
   },
   "file_extension": ".py",
   "mimetype": "text/x-python",
   "name": "python",
   "nbconvert_exporter": "python",
   "pygments_lexer": "ipython3",
   "version": "3.10.11"
  }
 },
 "nbformat": 4,
 "nbformat_minor": 2
}
