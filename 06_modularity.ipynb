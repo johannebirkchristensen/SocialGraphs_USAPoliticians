{
 "cells": [
  {
   "cell_type": "code",
   "execution_count": null,
   "metadata": {},
   "outputs": [],
   "source": [
    "# load graph object from file\n",
    "import pickle \n",
    "import os\n",
    "import numpy as np \n",
    "G = pickle.load(open('G_politicans_final.pickle', 'rb'))\n",
    "import networkx as nx"
   ]
  },
  {
   "cell_type": "code",
   "execution_count": 5,
   "metadata": {},
   "outputs": [
    {
     "name": "stdout",
     "output_type": "stream",
     "text": [
      "8\n",
      "0.21936270236469227\n"
     ]
    }
   ],
   "source": [
    "# partition the graph after genre attribute using party genre. \n",
    "partition = {}\n",
    "\n",
    "for node in G.nodes(data=True):\n",
    "    genre = node[1]['party'] # Select the first genre\n",
    "    if genre not in partition:\n",
    "        partition[genre] = [node[0]]\n",
    "    else:\n",
    "        partition[genre].append(node[0])\n",
    "print(len(partition))\n",
    "\n",
    "# calculate the modularity of the partition\n",
    "modularity = nx.algorithms.community.modularity(G, partition.values())\n",
    "print(modularity)"
   ]
  },
  {
   "cell_type": "code",
   "execution_count": 6,
   "metadata": {},
   "outputs": [
    {
     "name": "stdout",
     "output_type": "stream",
     "text": [
      "2\n",
      "0.04630535407767798\n"
     ]
    }
   ],
   "source": [
    "# partition the graph after genre attribute using party genre. \n",
    "partition = {}\n",
    "\n",
    "for node in G.nodes(data=True):\n",
    "    genre = node[1]['gender'] # Select the first genre\n",
    "    if genre not in partition:\n",
    "        partition[genre] = [node[0]]\n",
    "    else:\n",
    "        partition[genre].append(node[0])\n",
    "print(len(partition))\n",
    "\n",
    "# calculate the modularity of the partition\n",
    "modularity = nx.algorithms.community.modularity(G, partition.values())\n",
    "print(modularity)"
   ]
  },
  {
   "cell_type": "code",
   "execution_count": 8,
   "metadata": {},
   "outputs": [
    {
     "name": "stdout",
     "output_type": "stream",
     "text": [
      "1185\n",
      "0.7248532210970079\n"
     ]
    }
   ],
   "source": [
    "# use louvain method to partition the graph\n",
    "partition = nx.community.louvain_communities(G, seed = 1)\n",
    "print(len(partition))\n",
    "\n",
    "# calculate the modularity of the partition\n",
    "modularity = nx.algorithms.community.modularity(G, partition)\n",
    "print(modularity)"
   ]
  }
 ],
 "metadata": {
  "kernelspec": {
   "display_name": "Python 3",
   "language": "python",
   "name": "python3"
  },
  "language_info": {
   "codemirror_mode": {
    "name": "ipython",
    "version": 3
   },
   "file_extension": ".py",
   "mimetype": "text/x-python",
   "name": "python",
   "nbconvert_exporter": "python",
   "pygments_lexer": "ipython3",
   "version": "3.10.undefined"
  }
 },
 "nbformat": 4,
 "nbformat_minor": 2
}
