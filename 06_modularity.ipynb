{
 "cells": [
  {
   "cell_type": "code",
   "execution_count": null,
   "metadata": {},
   "outputs": [],
   "source": [
    "# load graph object from file\n",
    "import pickle \n",
    "import os\n",
    "import numpy as np \n",
    "G = pickle.load(open('G_politicans.pickle', 'rb'))"
   ]
  },
  {
   "cell_type": "code",
   "execution_count": null,
   "metadata": {},
   "outputs": [],
   "source": [
    "# partition the graph after genre attribute using party genre. \n",
    "partition = {}\n",
    "\n",
    "for node in G.nodes(data=True):\n",
    "    genre = node[1]['party'] # Select the first genre\n",
    "    if genre not in partition:\n",
    "        partition[genre] = [node[0]]\n",
    "    else:\n",
    "        partition[genre].append(node[0])\n",
    "print(len(partition))\n",
    "\n",
    "# calculate the modularity of the partition\n",
    "modularity = nx.algorithms.community.modularity(G, partition.values())\n",
    "print(modularity)"
   ]
  },
  {
   "cell_type": "code",
   "execution_count": null,
   "metadata": {},
   "outputs": [],
   "source": [
    "# partition the graph after genre attribute using party genre. \n",
    "partition = {}\n",
    "\n",
    "for node in G.nodes(data=True):\n",
    "    genre = node[1]['gender'] # Select the first genre\n",
    "    if genre not in partition:\n",
    "        partition[genre] = [node[0]]\n",
    "    else:\n",
    "        partition[genre].append(node[0])\n",
    "print(len(partition))\n",
    "\n",
    "# calculate the modularity of the partition\n",
    "modularity = nx.algorithms.community.modularity(G, partition.values())\n",
    "print(modularity)"
   ]
  },
  {
   "cell_type": "code",
   "execution_count": null,
   "metadata": {},
   "outputs": [],
   "source": [
    "# use louvain method to partition the graph\n",
    "partition = nx.community.louvain_communities(G)\n",
    "print(len(partition))\n",
    "\n",
    "# calculate the modularity of the partition\n",
    "modularity = nx.algorithms.community.modularity(G, partition)\n",
    "print(modularity)"
   ]
  }
 ],
 "metadata": {
  "language_info": {
   "name": "python"
  }
 },
 "nbformat": 4,
 "nbformat_minor": 2
}
